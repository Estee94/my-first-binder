{
 "cells": [
  {
   "cell_type": "markdown",
   "metadata": {},
   "source": [
    "##  England Comparison of Hospital Admission with Ventilator bed Occupancy"
   ]
  },
  {
   "cell_type": "code",
   "execution_count": null,
   "metadata": {},
   "outputs": [],
   "source": [
    "import ipywidgets as wdg\n",
    "import pandas as pd\n",
    "import numpy as np\n",
    "import matplotlib.pyplot as plt\n",
    "import json\n",
    "from uk_covid19 import Cov19API"
   ]
  },
  {
   "cell_type": "code",
   "execution_count": null,
   "metadata": {},
   "outputs": [],
   "source": [
    "%matplotlib inline\n",
    "# make figures larger\n",
    "plt.rcParams['figure.dpi'] = 100"
   ]
  },
  {
   "cell_type": "markdown",
   "metadata": {},
   "source": [
    "## Accessing PHE Covid Data\n",
    "\n",
    "Data provided has been collected is from  Primary Health England(PHE) who are providing current statistics on the COVID-19"
   ]
  },
  {
   "cell_type": "code",
   "execution_count": null,
   "metadata": {},
   "outputs": [],
   "source": [
    "with open(\"Eng_hospital_admissions.json\", \"rt\") as INFILE:\n",
    "    data=json.load(INFILE)\n",
    "\n",
    "data"
   ]
  },
  {
   "cell_type": "markdown",
   "metadata": {},
   "source": [
    "## Wrangling the Data"
   ]
  },
  {
   "cell_type": "code",
   "execution_count": null,
   "metadata": {},
   "outputs": [],
   "source": [
    "datalist=data['data']\n",
    "datalist"
   ]
  },
  {
   "cell_type": "code",
   "execution_count": null,
   "metadata": {},
   "outputs": [],
   "source": [
    "dates=[dictionary['date'] for dictionary in datalist ]\n",
    "dates.sort()\n",
    "dates"
   ]
  },
  {
   "cell_type": "code",
   "execution_count": null,
   "metadata": {},
   "outputs": [],
   "source": [
    "def parse_date(datestring):\n",
    "    \"\"\" Convert a date string into a pandas datetime object \"\"\"\n",
    "    return pd.to_datetime(datestring, format=\"%Y-%m-%d\")"
   ]
  },
  {
   "cell_type": "code",
   "execution_count": null,
   "metadata": {},
   "outputs": [],
   "source": [
    "startdate=parse_date(dates[0])\n",
    "enddate=parse_date(dates[-1])\n",
    "print (startdate, ' to ', enddate)"
   ]
  },
  {
   "cell_type": "code",
   "execution_count": null,
   "metadata": {},
   "outputs": [],
   "source": [
    "index=pd.date_range(startdate, enddate, freq='D')\n",
    "Eng_hospital_admissionsdf=pd.DataFrame(index=index, columns=['hospitalCases', 'covidOccupiedMVBeds'])\n",
    "Eng_hospital_admissionsdf"
   ]
  },
  {
   "cell_type": "code",
   "execution_count": null,
   "metadata": {},
   "outputs": [],
   "source": [
    "for entry in datalist: \n",
    "    date=parse_date(entry['date'])\n",
    "    for column in [ 'hospitalCases', 'covidOccupiedMVBeds']:\n",
    "        # check that nothing is there yet - just in case some dates are duplicated,\n",
    "        # maybe with data for different columns in each entry\n",
    "        if pd.isna(Eng_hospital_admissionsdf.loc[date, column]): \n",
    "            # replace None with 0 in our data \n",
    "            value= float(entry[column]) if entry[column]!=None else 0.0\n",
    "            # this is the way you access a specific location in the dataframe - use .loc\n",
    "            # and put index,column in a single set of [ ]\n",
    "            Eng_hospital_admissionsdf.loc[date, column]=value\n",
    "\n",
    "            \n",
    "# fill in any remaining \"holes\" due to missing dates\n",
    "Eng_hospital_admissionsdf.fillna(0.0, inplace=True)\n",
    "            \n",
    "\n",
    "                \n",
    "print(Eng_hospital_admissionsdf)"
   ]
  },
  {
   "cell_type": "markdown",
   "metadata": {},
   "source": [
    "## Below is a graph comparing Hospital Cases with Ventilator bed Occupancy"
   ]
  },
  {
   "cell_type": "code",
   "execution_count": null,
   "metadata": {},
   "outputs": [],
   "source": [
    "Eng_hospital_admissionsdf.plot()"
   ]
  },
  {
   "cell_type": "code",
   "execution_count": null,
   "metadata": {},
   "outputs": [],
   "source": [
    "# our API access function. This will be called by the button when it is clicked\n",
    "def access_api(button):\n",
    "    # Ignore the parameter, put code for polling the API here\n",
    "    print(\"I'm downloading data from the API...\")\n",
    "    print(\"...all done.\")\n",
    "    \n",
    "# see the doc for the parameters    \n",
    "apibutton=wdg.Button(\n",
    "    description='Refresh data',\n",
    "    disabled=False,\n",
    "    button_style='', # 'success', 'info', 'warning', 'danger' or ''\n",
    "    tooltip='Click to download current Public Health England data',\n",
    "    icon='download' # (FontAwesome names without the `fa-` prefix)\n",
    ")\n",
    "\n",
    "# register the callback function with the button\n",
    "apibutton.on_click(access_api)\n",
    "\n",
    "# this is an iPython function that generalises print for Jupyter Notebooks; we use it to \n",
    "# display the widgets\n",
    "display(apibutton)"
   ]
  },
  {
   "cell_type": "markdown",
   "metadata": {},
   "source": [
    "## For Above, clicking the refresh data button, you will be able to see up to date statistics "
   ]
  },
  {
   "cell_type": "code",
   "execution_count": null,
   "metadata": {},
   "outputs": [],
   "source": [
    "Eng_hospital_admissionsdf=pd.read_pickle(\"Eng_hospital_admissionsdf.pkl\")"
   ]
  },
  {
   "cell_type": "code",
   "execution_count": null,
   "metadata": {},
   "outputs": [],
   "source": [
    "series=wdg.SelectMultiple(\n",
    "    options=['hospitalCases', 'covidOccupiedMVBeds'],\n",
    "    value=['hospitalCases',  'covidOccupiedMVBeds'],\n",
    "    rows=2,\n",
    "    description='Stats:',\n",
    "    disabled=False\n",
    ")\n",
    "\n",
    "scale=wdg.RadioButtons(\n",
    "    options=['linear', 'log'],\n",
    "#    value='pineapple', # Defaults to 'pineapple'\n",
    "#    layout={'width': 'max-content'}, # If the items' names are long\n",
    "    description='Scale:',\n",
    "    disabled=False\n",
    ")\n",
    "\n",
    "# try replacing HBox with a VBox\n",
    "controls=wdg.HBox([series, scale])\n",
    "\n",
    "def Eng_hospital_admissions_graph(gcols, gscale):\n",
    "    if gscale=='linear':\n",
    "        logscale=False\n",
    "    else:\n",
    "        logscale=True\n",
    "    ncols=len(gcols)\n",
    "    if ncols>0:\n",
    "        Eng_hospital_admissionsdf[list(gcols)].plot(logy=logscale)\n",
    "    else:\n",
    "        print(\"Click to select data for graph\")\n",
    "        print(\"(CTRL-Click to select more than one category)\")\n",
    "\n",
    "# keep calling timeseries_graph(gcols=value_of_series, gscale=value_of_scale); capture output in variable graph   \n",
    "graph=wdg.interactive_output(Eng_hospital_admissions_graph, {'gcols': series, 'gscale': scale})\n",
    "\n",
    "display(controls, graph)"
   ]
  },
  {
   "cell_type": "code",
   "execution_count": null,
   "metadata": {},
   "outputs": [],
   "source": []
  }
 ],
 "metadata": {
  "kernelspec": {
   "display_name": "Python 3",
   "language": "python",
   "name": "python3"
  },
  "language_info": {
   "codemirror_mode": {
    "name": "ipython",
    "version": 3
   },
   "file_extension": ".py",
   "mimetype": "text/x-python",
   "name": "python",
   "nbconvert_exporter": "python",
   "pygments_lexer": "ipython3",
   "version": "3.8.3"
  }
 },
 "nbformat": 4,
 "nbformat_minor": 4
}
